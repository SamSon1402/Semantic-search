{
 "cells": [
  {
   "cell_type": "code",
   "execution_count": 1,
   "metadata": {},
   "outputs": [],
   "source": [
    "from elasticsearch import Elasticsearch"
   ]
  },
  {
   "cell_type": "code",
   "execution_count": 2,
   "metadata": {},
   "outputs": [
    {
     "data": {
      "text/plain": [
       "True"
      ]
     },
     "execution_count": 2,
     "metadata": {},
     "output_type": "execute_result"
    }
   ],
   "source": [
    "es  = Elasticsearch(\n",
    "    'https://localhost:9200',\n",
    "    basic_auth=('elastic' , 'epd1di6ZdaxYfLp0qmep'),\n",
    "    ca_certs='C:\\elasticsearch\\elasticsearch-8.13.4\\config\\certs\\http_ca.crt'\n",
    ")\n",
    "es.ping()"
   ]
  },
  {
   "cell_type": "code",
   "execution_count": 3,
   "metadata": {},
   "outputs": [],
   "source": [
    "import pandas as pd"
   ]
  },
  {
   "cell_type": "code",
   "execution_count": 4,
   "metadata": {},
   "outputs": [
    {
     "data": {
      "text/html": [
       "<div>\n",
       "<style scoped>\n",
       "    .dataframe tbody tr th:only-of-type {\n",
       "        vertical-align: middle;\n",
       "    }\n",
       "\n",
       "    .dataframe tbody tr th {\n",
       "        vertical-align: top;\n",
       "    }\n",
       "\n",
       "    .dataframe thead th {\n",
       "        text-align: right;\n",
       "    }\n",
       "</style>\n",
       "<table border=\"1\" class=\"dataframe\">\n",
       "  <thead>\n",
       "    <tr style=\"text-align: right;\">\n",
       "      <th></th>\n",
       "      <th>ProductID</th>\n",
       "      <th>ProductName</th>\n",
       "      <th>ProductBrand</th>\n",
       "      <th>Gender</th>\n",
       "      <th>Price (INR)</th>\n",
       "      <th>NumImages</th>\n",
       "      <th>Description</th>\n",
       "      <th>PrimaryColor</th>\n",
       "    </tr>\n",
       "  </thead>\n",
       "  <tbody>\n",
       "    <tr>\n",
       "      <th>0</th>\n",
       "      <td>10017413</td>\n",
       "      <td>DKNY Unisex Black &amp; Grey Printed Medium Trolle...</td>\n",
       "      <td>DKNY</td>\n",
       "      <td>Unisex</td>\n",
       "      <td>11745</td>\n",
       "      <td>7</td>\n",
       "      <td>Black and grey printed medium trolley bag, sec...</td>\n",
       "      <td>Black</td>\n",
       "    </tr>\n",
       "    <tr>\n",
       "      <th>1</th>\n",
       "      <td>10016283</td>\n",
       "      <td>EthnoVogue Women Beige &amp; Grey Made to Measure ...</td>\n",
       "      <td>EthnoVogue</td>\n",
       "      <td>Women</td>\n",
       "      <td>5810</td>\n",
       "      <td>7</td>\n",
       "      <td>Beige &amp; Grey made to measure kurta with churid...</td>\n",
       "      <td>Beige</td>\n",
       "    </tr>\n",
       "    <tr>\n",
       "      <th>2</th>\n",
       "      <td>10009781</td>\n",
       "      <td>SPYKAR Women Pink Alexa Super Skinny Fit High-...</td>\n",
       "      <td>SPYKAR</td>\n",
       "      <td>Women</td>\n",
       "      <td>899</td>\n",
       "      <td>7</td>\n",
       "      <td>Pink coloured wash 5-pocket high-rise cropped ...</td>\n",
       "      <td>Pink</td>\n",
       "    </tr>\n",
       "    <tr>\n",
       "      <th>3</th>\n",
       "      <td>10015921</td>\n",
       "      <td>Raymond Men Blue Self-Design Single-Breasted B...</td>\n",
       "      <td>Raymond</td>\n",
       "      <td>Men</td>\n",
       "      <td>5599</td>\n",
       "      <td>5</td>\n",
       "      <td>Blue self-design bandhgala suitBlue self-desig...</td>\n",
       "      <td>Blue</td>\n",
       "    </tr>\n",
       "    <tr>\n",
       "      <th>4</th>\n",
       "      <td>10017833</td>\n",
       "      <td>Parx Men Brown &amp; Off-White Slim Fit Printed Ca...</td>\n",
       "      <td>Parx</td>\n",
       "      <td>Men</td>\n",
       "      <td>759</td>\n",
       "      <td>5</td>\n",
       "      <td>Brown and off-white printed casual shirt, has ...</td>\n",
       "      <td>White</td>\n",
       "    </tr>\n",
       "  </tbody>\n",
       "</table>\n",
       "</div>"
      ],
      "text/plain": [
       "   ProductID                                        ProductName ProductBrand  \\\n",
       "0   10017413  DKNY Unisex Black & Grey Printed Medium Trolle...         DKNY   \n",
       "1   10016283  EthnoVogue Women Beige & Grey Made to Measure ...   EthnoVogue   \n",
       "2   10009781  SPYKAR Women Pink Alexa Super Skinny Fit High-...       SPYKAR   \n",
       "3   10015921  Raymond Men Blue Self-Design Single-Breasted B...      Raymond   \n",
       "4   10017833  Parx Men Brown & Off-White Slim Fit Printed Ca...         Parx   \n",
       "\n",
       "   Gender  Price (INR)  NumImages  \\\n",
       "0  Unisex        11745          7   \n",
       "1   Women         5810          7   \n",
       "2   Women          899          7   \n",
       "3     Men         5599          5   \n",
       "4     Men          759          5   \n",
       "\n",
       "                                         Description PrimaryColor  \n",
       "0  Black and grey printed medium trolley bag, sec...        Black  \n",
       "1  Beige & Grey made to measure kurta with churid...        Beige  \n",
       "2  Pink coloured wash 5-pocket high-rise cropped ...         Pink  \n",
       "3  Blue self-design bandhgala suitBlue self-desig...         Blue  \n",
       "4  Brown and off-white printed casual shirt, has ...        White  "
      ]
     },
     "execution_count": 4,
     "metadata": {},
     "output_type": "execute_result"
    }
   ],
   "source": [
    "df = pd.read_csv('myntra_products_catalog.csv').loc[:499]\n",
    "df.head()"
   ]
  },
  {
   "cell_type": "code",
   "execution_count": 5,
   "metadata": {},
   "outputs": [
    {
     "data": {
      "text/plain": [
       "ProductID  ProductName  ProductBrand  Gender  Price (INR)  NumImages  Description  PrimaryColor\n",
       "False      False        False         False   False        False      False        False           468\n",
       "                                                                                   True             32\n",
       "Name: count, dtype: int64"
      ]
     },
     "execution_count": 5,
     "metadata": {},
     "output_type": "execute_result"
    }
   ],
   "source": [
    "df.isna().value_counts()"
   ]
  },
  {
   "cell_type": "code",
   "execution_count": 6,
   "metadata": {},
   "outputs": [],
   "source": [
    "df.fillna('None', inplace=True)"
   ]
  },
  {
   "cell_type": "code",
   "execution_count": 7,
   "metadata": {},
   "outputs": [
    {
     "name": "stderr",
     "output_type": "stream",
     "text": [
      "c:\\Users\\91741\\Documents\\search_bar\\.venv\\Lib\\site-packages\\tqdm\\auto.py:21: TqdmWarning: IProgress not found. Please update jupyter and ipywidgets. See https://ipywidgets.readthedocs.io/en/stable/user_install.html\n",
      "  from .autonotebook import tqdm as notebook_tqdm\n",
      "c:\\Users\\91741\\Documents\\search_bar\\.venv\\Lib\\site-packages\\huggingface_hub\\file_download.py:1132: FutureWarning: `resume_download` is deprecated and will be removed in version 1.0.0. Downloads always resume when possible. If you want to force a new download, use `force_download=True`.\n",
      "  warnings.warn(\n",
      "c:\\Users\\91741\\Documents\\search_bar\\.venv\\Lib\\site-packages\\huggingface_hub\\file_download.py:1132: FutureWarning: `resume_download` is deprecated and will be removed in version 1.0.0. Downloads always resume when possible. If you want to force a new download, use `force_download=True`.\n",
      "  warnings.warn(\n"
     ]
    }
   ],
   "source": [
    "from sentence_transformers import SentenceTransformer\n",
    "\n",
    "model = SentenceTransformer(\"all-mpnet-base-v2\")"
   ]
  },
  {
   "cell_type": "code",
   "execution_count": 8,
   "metadata": {},
   "outputs": [],
   "source": [
    "df['description_vector'] = df['Description'].apply(lambda x: model.encode(x))"
   ]
  },
  {
   "cell_type": "code",
   "execution_count": 9,
   "metadata": {},
   "outputs": [
    {
     "data": {
      "text/html": [
       "<div>\n",
       "<style scoped>\n",
       "    .dataframe tbody tr th:only-of-type {\n",
       "        vertical-align: middle;\n",
       "    }\n",
       "\n",
       "    .dataframe tbody tr th {\n",
       "        vertical-align: top;\n",
       "    }\n",
       "\n",
       "    .dataframe thead th {\n",
       "        text-align: right;\n",
       "    }\n",
       "</style>\n",
       "<table border=\"1\" class=\"dataframe\">\n",
       "  <thead>\n",
       "    <tr style=\"text-align: right;\">\n",
       "      <th></th>\n",
       "      <th>ProductID</th>\n",
       "      <th>ProductName</th>\n",
       "      <th>ProductBrand</th>\n",
       "      <th>Gender</th>\n",
       "      <th>Price (INR)</th>\n",
       "      <th>NumImages</th>\n",
       "      <th>Description</th>\n",
       "      <th>PrimaryColor</th>\n",
       "      <th>description_vector</th>\n",
       "    </tr>\n",
       "  </thead>\n",
       "  <tbody>\n",
       "    <tr>\n",
       "      <th>0</th>\n",
       "      <td>10017413</td>\n",
       "      <td>DKNY Unisex Black &amp; Grey Printed Medium Trolle...</td>\n",
       "      <td>DKNY</td>\n",
       "      <td>Unisex</td>\n",
       "      <td>11745</td>\n",
       "      <td>7</td>\n",
       "      <td>Black and grey printed medium trolley bag, sec...</td>\n",
       "      <td>Black</td>\n",
       "      <td>[0.027645884, -0.0026341917, -0.0035884108, 0....</td>\n",
       "    </tr>\n",
       "    <tr>\n",
       "      <th>1</th>\n",
       "      <td>10016283</td>\n",
       "      <td>EthnoVogue Women Beige &amp; Grey Made to Measure ...</td>\n",
       "      <td>EthnoVogue</td>\n",
       "      <td>Women</td>\n",
       "      <td>5810</td>\n",
       "      <td>7</td>\n",
       "      <td>Beige &amp; Grey made to measure kurta with churid...</td>\n",
       "      <td>Beige</td>\n",
       "      <td>[-0.0246607, -0.028755352, -0.020332512, 0.034...</td>\n",
       "    </tr>\n",
       "    <tr>\n",
       "      <th>2</th>\n",
       "      <td>10009781</td>\n",
       "      <td>SPYKAR Women Pink Alexa Super Skinny Fit High-...</td>\n",
       "      <td>SPYKAR</td>\n",
       "      <td>Women</td>\n",
       "      <td>899</td>\n",
       "      <td>7</td>\n",
       "      <td>Pink coloured wash 5-pocket high-rise cropped ...</td>\n",
       "      <td>Pink</td>\n",
       "      <td>[-0.046943244, 0.081827946, 0.048335165, -0.00...</td>\n",
       "    </tr>\n",
       "    <tr>\n",
       "      <th>3</th>\n",
       "      <td>10015921</td>\n",
       "      <td>Raymond Men Blue Self-Design Single-Breasted B...</td>\n",
       "      <td>Raymond</td>\n",
       "      <td>Men</td>\n",
       "      <td>5599</td>\n",
       "      <td>5</td>\n",
       "      <td>Blue self-design bandhgala suitBlue self-desig...</td>\n",
       "      <td>Blue</td>\n",
       "      <td>[-0.015098729, -0.010285393, 0.009487305, -0.0...</td>\n",
       "    </tr>\n",
       "    <tr>\n",
       "      <th>4</th>\n",
       "      <td>10017833</td>\n",
       "      <td>Parx Men Brown &amp; Off-White Slim Fit Printed Ca...</td>\n",
       "      <td>Parx</td>\n",
       "      <td>Men</td>\n",
       "      <td>759</td>\n",
       "      <td>5</td>\n",
       "      <td>Brown and off-white printed casual shirt, has ...</td>\n",
       "      <td>White</td>\n",
       "      <td>[-0.017746598, 0.0062096263, 0.021813963, 0.02...</td>\n",
       "    </tr>\n",
       "  </tbody>\n",
       "</table>\n",
       "</div>"
      ],
      "text/plain": [
       "   ProductID                                        ProductName ProductBrand  \\\n",
       "0   10017413  DKNY Unisex Black & Grey Printed Medium Trolle...         DKNY   \n",
       "1   10016283  EthnoVogue Women Beige & Grey Made to Measure ...   EthnoVogue   \n",
       "2   10009781  SPYKAR Women Pink Alexa Super Skinny Fit High-...       SPYKAR   \n",
       "3   10015921  Raymond Men Blue Self-Design Single-Breasted B...      Raymond   \n",
       "4   10017833  Parx Men Brown & Off-White Slim Fit Printed Ca...         Parx   \n",
       "\n",
       "   Gender  Price (INR)  NumImages  \\\n",
       "0  Unisex        11745          7   \n",
       "1   Women         5810          7   \n",
       "2   Women          899          7   \n",
       "3     Men         5599          5   \n",
       "4     Men          759          5   \n",
       "\n",
       "                                         Description PrimaryColor  \\\n",
       "0  Black and grey printed medium trolley bag, sec...        Black   \n",
       "1  Beige & Grey made to measure kurta with churid...        Beige   \n",
       "2  Pink coloured wash 5-pocket high-rise cropped ...         Pink   \n",
       "3  Blue self-design bandhgala suitBlue self-desig...         Blue   \n",
       "4  Brown and off-white printed casual shirt, has ...        White   \n",
       "\n",
       "                                  description_vector  \n",
       "0  [0.027645884, -0.0026341917, -0.0035884108, 0....  \n",
       "1  [-0.0246607, -0.028755352, -0.020332512, 0.034...  \n",
       "2  [-0.046943244, 0.081827946, 0.048335165, -0.00...  \n",
       "3  [-0.015098729, -0.010285393, 0.009487305, -0.0...  \n",
       "4  [-0.017746598, 0.0062096263, 0.021813963, 0.02...  "
      ]
     },
     "execution_count": 9,
     "metadata": {},
     "output_type": "execute_result"
    }
   ],
   "source": [
    "df.head()"
   ]
  },
  {
   "cell_type": "code",
   "execution_count": 10,
   "metadata": {},
   "outputs": [
    {
     "data": {
      "text/plain": [
       "True"
      ]
     },
     "execution_count": 10,
     "metadata": {},
     "output_type": "execute_result"
    }
   ],
   "source": [
    "es.ping()"
   ]
  },
  {
   "cell_type": "code",
   "execution_count": 11,
   "metadata": {},
   "outputs": [],
   "source": [
    "from indexMapping import iMapping"
   ]
  },
  {
   "cell_type": "code",
   "execution_count": 12,
   "metadata": {},
   "outputs": [
    {
     "ename": "BadRequestError",
     "evalue": "BadRequestError(400, 'resource_already_exists_exception', 'index [all_product/kx8IeWAZT0qbzJjHFt-4ZA] already exists')",
     "output_type": "error",
     "traceback": [
      "\u001b[1;31m---------------------------------------------------------------------------\u001b[0m",
      "\u001b[1;31mBadRequestError\u001b[0m                           Traceback (most recent call last)",
      "Cell \u001b[1;32mIn[12], line 1\u001b[0m\n\u001b[1;32m----> 1\u001b[0m \u001b[43mes\u001b[49m\u001b[38;5;241;43m.\u001b[39;49m\u001b[43mindices\u001b[49m\u001b[38;5;241;43m.\u001b[39;49m\u001b[43mcreate\u001b[49m\u001b[43m(\u001b[49m\u001b[43mindex\u001b[49m\u001b[38;5;241;43m=\u001b[39;49m\u001b[38;5;124;43m'\u001b[39;49m\u001b[38;5;124;43mall_product\u001b[39;49m\u001b[38;5;124;43m'\u001b[39;49m\u001b[43m \u001b[49m\u001b[43m,\u001b[49m\u001b[43m \u001b[49m\u001b[43mmappings\u001b[49m\u001b[38;5;241;43m=\u001b[39;49m\u001b[43miMapping\u001b[49m\u001b[43m)\u001b[49m\n",
      "File \u001b[1;32mc:\\Users\\91741\\Documents\\search_bar\\.venv\\Lib\\site-packages\\elasticsearch\\_sync\\client\\utils.py:446\u001b[0m, in \u001b[0;36m_rewrite_parameters.<locals>.wrapper.<locals>.wrapped\u001b[1;34m(*args, **kwargs)\u001b[0m\n\u001b[0;32m    443\u001b[0m         \u001b[38;5;28;01mexcept\u001b[39;00m \u001b[38;5;167;01mKeyError\u001b[39;00m:\n\u001b[0;32m    444\u001b[0m             \u001b[38;5;28;01mpass\u001b[39;00m\n\u001b[1;32m--> 446\u001b[0m \u001b[38;5;28;01mreturn\u001b[39;00m \u001b[43mapi\u001b[49m\u001b[43m(\u001b[49m\u001b[38;5;241;43m*\u001b[39;49m\u001b[43margs\u001b[49m\u001b[43m,\u001b[49m\u001b[43m \u001b[49m\u001b[38;5;241;43m*\u001b[39;49m\u001b[38;5;241;43m*\u001b[39;49m\u001b[43mkwargs\u001b[49m\u001b[43m)\u001b[49m\n",
      "File \u001b[1;32mc:\\Users\\91741\\Documents\\search_bar\\.venv\\Lib\\site-packages\\elasticsearch\\_sync\\client\\indices.py:553\u001b[0m, in \u001b[0;36mIndicesClient.create\u001b[1;34m(self, index, aliases, error_trace, filter_path, human, mappings, master_timeout, pretty, settings, timeout, wait_for_active_shards, body)\u001b[0m\n\u001b[0;32m    551\u001b[0m \u001b[38;5;28;01mif\u001b[39;00m __body \u001b[38;5;129;01mis\u001b[39;00m \u001b[38;5;129;01mnot\u001b[39;00m \u001b[38;5;28;01mNone\u001b[39;00m:\n\u001b[0;32m    552\u001b[0m     __headers[\u001b[38;5;124m\"\u001b[39m\u001b[38;5;124mcontent-type\u001b[39m\u001b[38;5;124m\"\u001b[39m] \u001b[38;5;241m=\u001b[39m \u001b[38;5;124m\"\u001b[39m\u001b[38;5;124mapplication/json\u001b[39m\u001b[38;5;124m\"\u001b[39m\n\u001b[1;32m--> 553\u001b[0m \u001b[38;5;28;01mreturn\u001b[39;00m \u001b[38;5;28;43mself\u001b[39;49m\u001b[38;5;241;43m.\u001b[39;49m\u001b[43mperform_request\u001b[49m\u001b[43m(\u001b[49m\u001b[43m  \u001b[49m\u001b[38;5;66;43;03m# type: ignore[return-value]\u001b[39;49;00m\n\u001b[0;32m    554\u001b[0m \u001b[43m    \u001b[49m\u001b[38;5;124;43m\"\u001b[39;49m\u001b[38;5;124;43mPUT\u001b[39;49m\u001b[38;5;124;43m\"\u001b[39;49m\u001b[43m,\u001b[49m\n\u001b[0;32m    555\u001b[0m \u001b[43m    \u001b[49m\u001b[43m__path\u001b[49m\u001b[43m,\u001b[49m\n\u001b[0;32m    556\u001b[0m \u001b[43m    \u001b[49m\u001b[43mparams\u001b[49m\u001b[38;5;241;43m=\u001b[39;49m\u001b[43m__query\u001b[49m\u001b[43m,\u001b[49m\n\u001b[0;32m    557\u001b[0m \u001b[43m    \u001b[49m\u001b[43mheaders\u001b[49m\u001b[38;5;241;43m=\u001b[39;49m\u001b[43m__headers\u001b[49m\u001b[43m,\u001b[49m\n\u001b[0;32m    558\u001b[0m \u001b[43m    \u001b[49m\u001b[43mbody\u001b[49m\u001b[38;5;241;43m=\u001b[39;49m\u001b[43m__body\u001b[49m\u001b[43m,\u001b[49m\n\u001b[0;32m    559\u001b[0m \u001b[43m    \u001b[49m\u001b[43mendpoint_id\u001b[49m\u001b[38;5;241;43m=\u001b[39;49m\u001b[38;5;124;43m\"\u001b[39;49m\u001b[38;5;124;43mindices.create\u001b[39;49m\u001b[38;5;124;43m\"\u001b[39;49m\u001b[43m,\u001b[49m\n\u001b[0;32m    560\u001b[0m \u001b[43m    \u001b[49m\u001b[43mpath_parts\u001b[49m\u001b[38;5;241;43m=\u001b[39;49m\u001b[43m__path_parts\u001b[49m\u001b[43m,\u001b[49m\n\u001b[0;32m    561\u001b[0m \u001b[43m\u001b[49m\u001b[43m)\u001b[49m\n",
      "File \u001b[1;32mc:\\Users\\91741\\Documents\\search_bar\\.venv\\Lib\\site-packages\\elasticsearch\\_sync\\client\\_base.py:423\u001b[0m, in \u001b[0;36mNamespacedClient.perform_request\u001b[1;34m(self, method, path, params, headers, body, endpoint_id, path_parts)\u001b[0m\n\u001b[0;32m    410\u001b[0m \u001b[38;5;28;01mdef\u001b[39;00m \u001b[38;5;21mperform_request\u001b[39m(\n\u001b[0;32m    411\u001b[0m     \u001b[38;5;28mself\u001b[39m,\n\u001b[0;32m    412\u001b[0m     method: \u001b[38;5;28mstr\u001b[39m,\n\u001b[1;32m   (...)\u001b[0m\n\u001b[0;32m    421\u001b[0m     \u001b[38;5;66;03m# Use the internal clients .perform_request() implementation\u001b[39;00m\n\u001b[0;32m    422\u001b[0m     \u001b[38;5;66;03m# so we take advantage of their transport options.\u001b[39;00m\n\u001b[1;32m--> 423\u001b[0m     \u001b[38;5;28;01mreturn\u001b[39;00m \u001b[38;5;28;43mself\u001b[39;49m\u001b[38;5;241;43m.\u001b[39;49m\u001b[43m_client\u001b[49m\u001b[38;5;241;43m.\u001b[39;49m\u001b[43mperform_request\u001b[49m\u001b[43m(\u001b[49m\n\u001b[0;32m    424\u001b[0m \u001b[43m        \u001b[49m\u001b[43mmethod\u001b[49m\u001b[43m,\u001b[49m\n\u001b[0;32m    425\u001b[0m \u001b[43m        \u001b[49m\u001b[43mpath\u001b[49m\u001b[43m,\u001b[49m\n\u001b[0;32m    426\u001b[0m \u001b[43m        \u001b[49m\u001b[43mparams\u001b[49m\u001b[38;5;241;43m=\u001b[39;49m\u001b[43mparams\u001b[49m\u001b[43m,\u001b[49m\n\u001b[0;32m    427\u001b[0m \u001b[43m        \u001b[49m\u001b[43mheaders\u001b[49m\u001b[38;5;241;43m=\u001b[39;49m\u001b[43mheaders\u001b[49m\u001b[43m,\u001b[49m\n\u001b[0;32m    428\u001b[0m \u001b[43m        \u001b[49m\u001b[43mbody\u001b[49m\u001b[38;5;241;43m=\u001b[39;49m\u001b[43mbody\u001b[49m\u001b[43m,\u001b[49m\n\u001b[0;32m    429\u001b[0m \u001b[43m        \u001b[49m\u001b[43mendpoint_id\u001b[49m\u001b[38;5;241;43m=\u001b[39;49m\u001b[43mendpoint_id\u001b[49m\u001b[43m,\u001b[49m\n\u001b[0;32m    430\u001b[0m \u001b[43m        \u001b[49m\u001b[43mpath_parts\u001b[49m\u001b[38;5;241;43m=\u001b[39;49m\u001b[43mpath_parts\u001b[49m\u001b[43m,\u001b[49m\n\u001b[0;32m    431\u001b[0m \u001b[43m    \u001b[49m\u001b[43m)\u001b[49m\n",
      "File \u001b[1;32mc:\\Users\\91741\\Documents\\search_bar\\.venv\\Lib\\site-packages\\elasticsearch\\_sync\\client\\_base.py:271\u001b[0m, in \u001b[0;36mBaseClient.perform_request\u001b[1;34m(self, method, path, params, headers, body, endpoint_id, path_parts)\u001b[0m\n\u001b[0;32m    255\u001b[0m \u001b[38;5;28;01mdef\u001b[39;00m \u001b[38;5;21mperform_request\u001b[39m(\n\u001b[0;32m    256\u001b[0m     \u001b[38;5;28mself\u001b[39m,\n\u001b[0;32m    257\u001b[0m     method: \u001b[38;5;28mstr\u001b[39m,\n\u001b[1;32m   (...)\u001b[0m\n\u001b[0;32m    264\u001b[0m     path_parts: Optional[Mapping[\u001b[38;5;28mstr\u001b[39m, Any]] \u001b[38;5;241m=\u001b[39m \u001b[38;5;28;01mNone\u001b[39;00m,\n\u001b[0;32m    265\u001b[0m ) \u001b[38;5;241m-\u001b[39m\u001b[38;5;241m>\u001b[39m ApiResponse[Any]:\n\u001b[0;32m    266\u001b[0m     \u001b[38;5;28;01mwith\u001b[39;00m \u001b[38;5;28mself\u001b[39m\u001b[38;5;241m.\u001b[39m_otel\u001b[38;5;241m.\u001b[39mspan(\n\u001b[0;32m    267\u001b[0m         method,\n\u001b[0;32m    268\u001b[0m         endpoint_id\u001b[38;5;241m=\u001b[39mendpoint_id,\n\u001b[0;32m    269\u001b[0m         path_parts\u001b[38;5;241m=\u001b[39mpath_parts \u001b[38;5;129;01mor\u001b[39;00m {},\n\u001b[0;32m    270\u001b[0m     ) \u001b[38;5;28;01mas\u001b[39;00m otel_span:\n\u001b[1;32m--> 271\u001b[0m         response \u001b[38;5;241m=\u001b[39m \u001b[38;5;28;43mself\u001b[39;49m\u001b[38;5;241;43m.\u001b[39;49m\u001b[43m_perform_request\u001b[49m\u001b[43m(\u001b[49m\n\u001b[0;32m    272\u001b[0m \u001b[43m            \u001b[49m\u001b[43mmethod\u001b[49m\u001b[43m,\u001b[49m\n\u001b[0;32m    273\u001b[0m \u001b[43m            \u001b[49m\u001b[43mpath\u001b[49m\u001b[43m,\u001b[49m\n\u001b[0;32m    274\u001b[0m \u001b[43m            \u001b[49m\u001b[43mparams\u001b[49m\u001b[38;5;241;43m=\u001b[39;49m\u001b[43mparams\u001b[49m\u001b[43m,\u001b[49m\n\u001b[0;32m    275\u001b[0m \u001b[43m            \u001b[49m\u001b[43mheaders\u001b[49m\u001b[38;5;241;43m=\u001b[39;49m\u001b[43mheaders\u001b[49m\u001b[43m,\u001b[49m\n\u001b[0;32m    276\u001b[0m \u001b[43m            \u001b[49m\u001b[43mbody\u001b[49m\u001b[38;5;241;43m=\u001b[39;49m\u001b[43mbody\u001b[49m\u001b[43m,\u001b[49m\n\u001b[0;32m    277\u001b[0m \u001b[43m            \u001b[49m\u001b[43motel_span\u001b[49m\u001b[38;5;241;43m=\u001b[39;49m\u001b[43motel_span\u001b[49m\u001b[43m,\u001b[49m\n\u001b[0;32m    278\u001b[0m \u001b[43m        \u001b[49m\u001b[43m)\u001b[49m\n\u001b[0;32m    279\u001b[0m         otel_span\u001b[38;5;241m.\u001b[39mset_elastic_cloud_metadata(response\u001b[38;5;241m.\u001b[39mmeta\u001b[38;5;241m.\u001b[39mheaders)\n\u001b[0;32m    280\u001b[0m         \u001b[38;5;28;01mreturn\u001b[39;00m response\n",
      "File \u001b[1;32mc:\\Users\\91741\\Documents\\search_bar\\.venv\\Lib\\site-packages\\elasticsearch\\_sync\\client\\_base.py:352\u001b[0m, in \u001b[0;36mBaseClient._perform_request\u001b[1;34m(self, method, path, params, headers, body, otel_span)\u001b[0m\n\u001b[0;32m    349\u001b[0m         \u001b[38;5;28;01mexcept\u001b[39;00m (\u001b[38;5;167;01mValueError\u001b[39;00m, \u001b[38;5;167;01mKeyError\u001b[39;00m, \u001b[38;5;167;01mTypeError\u001b[39;00m):\n\u001b[0;32m    350\u001b[0m             \u001b[38;5;28;01mpass\u001b[39;00m\n\u001b[1;32m--> 352\u001b[0m     \u001b[38;5;28;01mraise\u001b[39;00m HTTP_EXCEPTIONS\u001b[38;5;241m.\u001b[39mget(meta\u001b[38;5;241m.\u001b[39mstatus, ApiError)(\n\u001b[0;32m    353\u001b[0m         message\u001b[38;5;241m=\u001b[39mmessage, meta\u001b[38;5;241m=\u001b[39mmeta, body\u001b[38;5;241m=\u001b[39mresp_body\n\u001b[0;32m    354\u001b[0m     )\n\u001b[0;32m    356\u001b[0m \u001b[38;5;66;03m# 'X-Elastic-Product: Elasticsearch' should be on every 2XX response.\u001b[39;00m\n\u001b[0;32m    357\u001b[0m \u001b[38;5;28;01mif\u001b[39;00m \u001b[38;5;129;01mnot\u001b[39;00m \u001b[38;5;28mself\u001b[39m\u001b[38;5;241m.\u001b[39m_verified_elasticsearch:\n\u001b[0;32m    358\u001b[0m     \u001b[38;5;66;03m# If the header is set we mark the server as verified.\u001b[39;00m\n",
      "\u001b[1;31mBadRequestError\u001b[0m: BadRequestError(400, 'resource_already_exists_exception', 'index [all_product/kx8IeWAZT0qbzJjHFt-4ZA] already exists')"
     ]
    }
   ],
   "source": [
    "es.indices.create(index='all_product' , mappings=iMapping)"
   ]
  },
  {
   "cell_type": "code",
   "execution_count": null,
   "metadata": {},
   "outputs": [],
   "source": [
    "record_list = df.to_dict('records')"
   ]
  },
  {
   "cell_type": "code",
   "execution_count": null,
   "metadata": {},
   "outputs": [
    {
     "data": {
      "text/plain": [
       "{'ProductID': 10017413,\n",
       " 'ProductName': 'DKNY Unisex Black & Grey Printed Medium Trolley Bag',\n",
       " 'ProductBrand': 'DKNY',\n",
       " 'Gender': 'Unisex',\n",
       " 'Price (INR)': 11745,\n",
       " 'NumImages': 7,\n",
       " 'Description': 'Black and grey printed medium trolley bag, secured with a TSA lockOne handle on the top and one on the side, has a trolley with a retractable handle on the top and four corner mounted inline skate wheelsOne main zip compartment, zip lining, two compression straps with click clasps, one zip compartment on the flap with three zip pocketsWarranty: 5 yearsWarranty provided by Brand Owner / Manufacturer',\n",
       " 'PrimaryColor': ' Black',\n",
       " 'description_vector': array([ 2.76458841e-02, -2.63419165e-03, -3.58841079e-03,  5.13588041e-02,\n",
       "         3.09661552e-02,  1.40507389e-02,  7.27059739e-03,  3.13872173e-02,\n",
       "        -6.23786747e-02, -3.82885640e-03,  3.15214284e-02,  7.55471513e-02,\n",
       "         2.12641782e-03,  4.64892872e-02,  5.07448874e-02, -1.71942208e-02,\n",
       "         1.22892950e-02, -1.95682496e-02, -9.64851677e-02,  3.52678983e-03,\n",
       "        -1.83508657e-02,  2.58225575e-02, -3.12243793e-02,  5.46113141e-02,\n",
       "         2.11241674e-02,  8.97168647e-03,  1.99166052e-02,  2.25222874e-02,\n",
       "         5.33208577e-03, -5.24597056e-02,  2.56655421e-02, -2.64644399e-02,\n",
       "         1.60459522e-02, -2.47584693e-02,  1.45433137e-06, -5.99340163e-02,\n",
       "        -4.21298109e-02, -5.82054630e-03, -1.85586140e-02, -6.88411891e-02,\n",
       "         4.52962965e-02,  7.06151966e-03,  3.00954767e-02, -7.18991533e-02,\n",
       "         2.67853253e-02, -6.78085387e-02,  1.52005982e-02,  7.82434046e-02,\n",
       "        -3.86550464e-02, -1.53425913e-02,  3.39756645e-02,  1.37782907e-02,\n",
       "        -1.47241643e-02, -2.74832244e-03,  2.31590271e-02, -4.98685688e-02,\n",
       "        -5.12827234e-03,  5.24751768e-02,  1.36131719e-02, -1.93230268e-02,\n",
       "        -2.72569843e-02,  4.11068499e-02,  4.80893776e-02, -2.70953830e-02,\n",
       "         4.11908366e-02,  4.60447520e-02, -6.37177005e-02,  1.31804636e-02,\n",
       "         1.30296941e-03,  4.09116857e-02,  6.41553551e-02, -4.79833297e-02,\n",
       "         1.10396347e-03,  7.25232735e-02, -7.41676631e-05,  2.57208035e-03,\n",
       "         2.96356380e-02,  2.96355914e-02,  1.66540053e-02,  1.16769131e-02,\n",
       "        -4.72041443e-02,  6.52725920e-02, -5.69467917e-02,  5.62868267e-02,\n",
       "         2.87739616e-02,  3.27831320e-02,  2.21507810e-02,  2.87625827e-02,\n",
       "         9.41019319e-03, -2.78682914e-02,  5.07244049e-03, -1.35145020e-02,\n",
       "         2.92993318e-02,  1.73486769e-02, -7.76379183e-03, -8.01694840e-02,\n",
       "         5.42521738e-02, -5.81912249e-02,  3.02955732e-02, -2.88303401e-02,\n",
       "         1.04822796e-02,  4.99632284e-02, -1.98193379e-02,  2.69688061e-03,\n",
       "        -5.78292180e-03,  3.49556096e-02, -1.04184542e-02, -1.53065333e-03,\n",
       "        -8.06272328e-02,  3.73889431e-02,  2.62705851e-02, -2.40433328e-02,\n",
       "        -4.65659089e-02,  3.46576497e-02, -3.50579396e-02,  2.76909638e-02,\n",
       "        -1.99475307e-02,  2.66633444e-02,  3.83038744e-02, -3.57967545e-03,\n",
       "        -1.11198826e-02, -3.43021192e-02, -5.00616059e-02, -2.43405718e-03,\n",
       "         2.01843232e-02, -4.51828390e-02, -4.48807739e-02, -4.15880419e-02,\n",
       "        -1.21017490e-02,  4.56552729e-02, -4.09716330e-02,  3.33762430e-02,\n",
       "         4.05118503e-02, -1.42122842e-02, -2.18980387e-02,  2.38487944e-02,\n",
       "        -3.59017216e-02, -3.51186953e-02, -5.59868068e-02, -2.04212349e-02,\n",
       "        -1.90293149e-03, -2.63332631e-02,  6.62041921e-03,  2.82202717e-02,\n",
       "        -3.89377363e-02, -3.85373235e-02,  3.99998501e-02,  3.73886153e-03,\n",
       "        -3.34510915e-02, -6.12203218e-02, -7.10495412e-02,  1.82612967e-02,\n",
       "         4.99361306e-02, -1.96538847e-02,  3.62080000e-02,  1.36305504e-02,\n",
       "         3.72649133e-02, -1.86512545e-02, -2.54693255e-02,  1.35054244e-02,\n",
       "         2.56374255e-02, -2.38314644e-02, -2.21330300e-02,  2.39103218e-03,\n",
       "        -5.98022081e-02, -2.13336479e-02, -9.58663225e-03, -6.31966209e-03,\n",
       "        -3.08500361e-02, -1.75864510e-02, -1.89545769e-02, -3.34730111e-02,\n",
       "        -2.12753122e-03, -3.45623842e-03, -1.71548370e-02,  7.40248635e-02,\n",
       "         3.30891996e-03, -5.94480634e-02, -4.20915149e-02, -4.85316385e-03,\n",
       "        -1.24044484e-02, -1.11631386e-01,  5.64271584e-02, -7.50047341e-03,\n",
       "        -2.17744126e-03, -8.79484322e-03, -5.20505663e-03,  2.68772035e-03,\n",
       "        -1.67976059e-02, -6.23680577e-02,  3.14838327e-02, -3.52154747e-02,\n",
       "         8.10609162e-02,  3.64167504e-02,  9.73854272e-04, -3.69658582e-02,\n",
       "         2.52881157e-03, -7.46890232e-02,  8.42567626e-03, -1.65020507e-02,\n",
       "        -7.72045255e-02, -1.85621642e-02,  5.66544151e-03, -1.47190010e-02,\n",
       "        -1.65352169e-02,  4.13800068e-02, -2.33762786e-02,  9.86001641e-03,\n",
       "        -5.00026532e-02,  4.48235823e-03,  3.75415571e-02,  2.56805420e-02,\n",
       "        -2.02895817e-03, -5.84917180e-02, -1.47918575e-02, -1.84919778e-03,\n",
       "         2.87931897e-02, -2.44094692e-02,  1.05893509e-02,  4.51087505e-02,\n",
       "         6.12144209e-02,  1.33142462e-02,  5.87451197e-02, -1.59004182e-02,\n",
       "         4.00180630e-02,  1.64473522e-02,  1.43469749e-02, -2.68046651e-02,\n",
       "         7.16700330e-02,  8.84746760e-03, -6.41266722e-03,  1.15750369e-03,\n",
       "        -3.68435159e-02,  2.93020047e-02, -3.14095318e-02, -6.79304171e-03,\n",
       "         8.94472301e-02,  5.99376112e-02, -8.24589934e-03,  2.58784238e-02,\n",
       "        -4.22716588e-02,  1.91916693e-02,  2.88720592e-04,  4.13903268e-03,\n",
       "        -5.83747439e-02,  6.08172342e-02, -3.75355668e-02, -3.70273739e-02,\n",
       "        -6.11729501e-03, -1.42938402e-02, -8.24460946e-03,  1.60563097e-03,\n",
       "         3.51404436e-02, -1.88067667e-02, -2.16341391e-02, -5.51069602e-02,\n",
       "        -5.03756292e-03,  3.81736644e-02,  2.06448548e-02,  2.99759419e-03,\n",
       "         2.01757252e-02, -8.43656994e-03,  3.04718758e-03, -2.86360318e-03,\n",
       "         5.25486842e-02,  1.00491045e-03,  5.10405228e-02,  9.56352893e-03,\n",
       "         1.99478921e-02, -3.06443032e-02, -6.84510497e-03, -1.10092452e-02,\n",
       "         1.72651671e-02, -9.95550025e-03, -1.40040368e-02, -4.78950255e-02,\n",
       "         4.48317677e-02,  2.99809640e-03, -5.05880872e-03, -1.37886694e-02,\n",
       "        -1.93421263e-02, -2.25321334e-02, -4.01583016e-02, -2.50679348e-02,\n",
       "        -1.73990037e-02,  7.81952590e-03, -4.38657179e-02,  1.10517489e-02,\n",
       "        -5.72640169e-03,  2.99920347e-02, -4.39986736e-02, -4.38923395e-04,\n",
       "        -6.25566766e-03, -3.10895331e-02,  1.94589663e-02, -2.74248272e-02,\n",
       "        -9.93123185e-03, -4.21830006e-02,  2.52597239e-02,  2.97783408e-02,\n",
       "         4.61614225e-03, -3.88785265e-02, -3.68001759e-02,  8.19747243e-03,\n",
       "        -1.57801004e-03, -3.11215455e-03,  2.27061380e-02, -3.63272950e-02,\n",
       "        -2.32268032e-02,  3.96531783e-02, -1.75962225e-02,  7.61349266e-03,\n",
       "        -4.49805707e-02, -9.71956924e-02,  6.55073533e-03, -4.07043062e-02,\n",
       "        -4.23453040e-02,  2.21425593e-02, -1.69916283e-02,  9.62368399e-02,\n",
       "        -4.27954122e-02,  2.88663432e-02,  3.25763300e-02, -1.60414390e-02,\n",
       "        -2.20179409e-02, -4.18679714e-02, -6.52636215e-02, -2.43135430e-02,\n",
       "         3.35064530e-02, -2.16999762e-02,  4.89503182e-02, -3.22210081e-02,\n",
       "         5.66819198e-02,  3.94777842e-02, -6.04452826e-02, -8.55641812e-02,\n",
       "        -4.11012620e-02, -5.89924864e-03,  4.48789224e-02,  3.86384353e-02,\n",
       "         2.37330124e-02, -3.74433608e-03, -7.40814488e-03, -3.48129086e-02,\n",
       "        -1.26407221e-02, -8.32107365e-02, -7.77609227e-03,  8.24042887e-04,\n",
       "        -2.08235197e-02,  4.96382592e-03,  1.02756517e-02,  7.34596774e-02,\n",
       "         4.56728265e-02, -1.11290673e-02, -8.89210438e-04,  3.50867324e-02,\n",
       "        -5.21470560e-04,  3.29106115e-02,  3.92490253e-02,  9.39378422e-03,\n",
       "        -3.05089019e-02,  1.42532736e-02, -1.87922240e-04,  1.48091856e-02,\n",
       "         3.88668254e-02,  2.09767297e-02,  1.69476364e-02,  6.42409623e-02,\n",
       "         1.02789598e-02,  1.05284210e-02,  4.56122905e-02,  4.24702242e-02,\n",
       "         3.24788988e-02,  3.20182070e-02, -2.87148170e-02, -7.86706433e-03,\n",
       "         9.84600559e-03,  4.08063717e-02, -1.92641672e-02, -6.10290514e-03,\n",
       "         5.00562079e-02,  1.64055917e-02,  4.35197391e-02, -1.09658092e-02,\n",
       "         3.21553387e-02, -3.21289673e-02,  4.05217940e-03, -1.42192924e-02,\n",
       "        -1.72176529e-02, -2.24060621e-02,  3.41360755e-02,  1.79262850e-02,\n",
       "        -8.28831736e-03,  5.04024513e-02, -3.55287641e-02,  2.78952383e-02,\n",
       "         2.46787374e-03, -2.67916359e-03, -3.25403363e-02,  1.17414836e-02,\n",
       "        -2.00907886e-02,  4.24936749e-02,  3.08380239e-02,  1.66973118e-02,\n",
       "         3.07387747e-02, -4.58764881e-02, -5.39869489e-03,  1.92521289e-02,\n",
       "        -2.37640794e-02, -4.52494510e-02, -3.50061394e-02, -6.26826519e-03,\n",
       "        -3.49792130e-02,  6.37186766e-02, -4.95002270e-02, -8.27830285e-02,\n",
       "         2.43392424e-03, -7.25408345e-02,  5.77692948e-02, -3.55351567e-02,\n",
       "         1.10668410e-03,  7.00722507e-04, -2.26268433e-02,  1.01695480e-02,\n",
       "         1.71285011e-02, -1.74754634e-02, -3.18570472e-02, -6.42487854e-02,\n",
       "        -3.10207400e-02, -3.18854935e-02,  3.82462405e-02,  3.10538951e-02,\n",
       "        -2.99189929e-02,  1.83081515e-02, -5.88303618e-02, -2.38675419e-02,\n",
       "         3.73598821e-02,  2.49050334e-02, -6.08941391e-02, -8.83549172e-03,\n",
       "        -4.21162322e-02, -4.55484651e-02, -1.47926174e-02, -2.38328613e-02,\n",
       "        -4.74843616e-03, -4.89294343e-02, -1.93929784e-02, -4.01563197e-02,\n",
       "        -8.04087706e-03, -7.47549906e-02,  2.10539834e-03,  1.64749771e-02,\n",
       "         8.30393955e-02,  1.55175645e-02,  4.70302440e-02, -4.48355563e-02,\n",
       "         5.50825633e-02, -7.38567635e-02, -3.09091806e-02,  1.67553872e-02,\n",
       "         5.06773777e-02,  2.49253083e-02, -7.24060759e-02,  3.98997627e-02,\n",
       "         2.13702908e-03, -1.89519338e-02, -1.86338183e-02,  1.30079398e-02,\n",
       "         1.97983589e-02, -3.67520154e-02, -4.02529091e-02, -4.21340996e-03,\n",
       "        -1.62019301e-02, -3.34677938e-03,  4.09932397e-02, -2.45059971e-02,\n",
       "        -1.03827119e-02, -4.73151021e-02,  5.08266911e-02, -5.92376571e-03,\n",
       "        -3.16211546e-04, -6.27381494e-03,  1.60506200e-02,  1.63368545e-02,\n",
       "         2.72355415e-02,  2.05409937e-02,  2.15955302e-02, -1.16070919e-02,\n",
       "         1.46542359e-02, -5.12824543e-02,  1.71000529e-02, -6.01727553e-02,\n",
       "        -1.86470151e-02, -1.95505712e-02,  5.43012172e-02,  1.48305088e-01,\n",
       "         6.39535710e-02, -4.22864128e-03,  2.49036327e-02, -5.27662560e-02,\n",
       "         8.22671968e-03,  3.78339961e-02, -6.19607838e-03, -3.93907651e-02,\n",
       "         3.58749367e-02,  1.18882004e-02,  2.66932305e-02,  1.62878893e-02,\n",
       "         6.09422140e-02, -1.60512049e-02,  3.50126502e-04,  2.91722156e-02,\n",
       "        -7.17694359e-03, -2.95379180e-02,  6.30705208e-02,  5.02149463e-02,\n",
       "        -5.33038527e-02, -9.42943525e-03,  1.98485777e-02, -2.10122056e-02,\n",
       "         3.09328306e-02, -1.42166214e-02,  3.32838781e-02,  2.94382647e-02,\n",
       "         1.26157524e-02,  4.95138057e-02,  1.15885055e-02,  2.58325296e-03,\n",
       "         4.47752625e-02,  5.12729660e-02, -2.06900779e-02, -8.23474117e-03,\n",
       "        -7.23872939e-03,  1.32843750e-02, -5.08004390e-02,  7.57652968e-02,\n",
       "        -8.74614120e-02,  4.24297638e-02,  1.12237232e-02,  9.69360044e-05,\n",
       "        -4.58215065e-02, -1.55912396e-02,  2.53331438e-02, -5.37834037e-03,\n",
       "        -3.63492843e-04,  3.69622409e-02, -4.63643409e-02, -1.23736076e-03,\n",
       "         5.76700307e-02, -7.09539652e-02,  1.54587328e-02, -6.11974970e-02,\n",
       "        -1.10918820e-01, -3.09236418e-03,  2.27634571e-02, -4.78635953e-33,\n",
       "         3.12270597e-02, -6.63603470e-02, -2.36832220e-02,  2.42749900e-02,\n",
       "        -2.04047840e-03, -4.47730068e-03,  4.22935467e-03, -4.12173942e-03,\n",
       "        -3.53075415e-02, -2.23746728e-02,  1.80854145e-02, -3.13033094e-03,\n",
       "         3.27593498e-02,  4.38900990e-03,  6.06583245e-02,  1.11367637e-02,\n",
       "         2.70507969e-02, -7.78138172e-03, -6.00768859e-03, -2.07057409e-02,\n",
       "        -3.77762429e-02, -9.80800483e-03,  4.01681177e-02,  3.02954596e-02,\n",
       "         5.43257371e-02, -9.85897705e-02, -2.94534978e-03,  2.91572418e-02,\n",
       "         3.44493650e-02, -8.56010616e-03, -7.64997303e-02,  2.66989321e-03,\n",
       "         2.50924733e-02,  3.52500156e-02,  5.67993894e-02,  2.29065884e-02,\n",
       "         5.05906120e-02, -4.30481285e-02,  3.37688699e-02,  9.36800614e-03,\n",
       "         1.14865731e-02, -5.23018949e-02, -1.63467620e-02, -1.74134336e-02,\n",
       "        -8.21172289e-05,  6.74259430e-03, -3.11616473e-02,  3.66182216e-02,\n",
       "        -3.53261977e-02,  1.54254735e-02,  6.49727210e-02,  1.90680083e-02,\n",
       "        -2.05425657e-02, -1.29935332e-02,  3.07242405e-02,  3.60369757e-02,\n",
       "        -7.30988476e-03, -3.42608839e-02,  3.69405672e-02, -1.68615077e-02,\n",
       "        -6.95912763e-02, -3.51376086e-02, -1.96793713e-02, -2.16357093e-02,\n",
       "        -1.91740636e-02, -7.22269155e-03, -9.27114859e-03,  3.80432680e-02,\n",
       "        -7.26440176e-02, -3.93156148e-02,  3.23876709e-04, -1.54596101e-02,\n",
       "        -5.66323586e-02, -2.86029205e-02, -3.38707529e-02, -8.40215012e-03,\n",
       "         3.27712707e-02, -1.23575786e-02,  5.67503013e-02,  1.07323512e-01,\n",
       "         1.62488793e-03,  1.98507383e-02, -4.92324866e-02,  4.31419723e-03,\n",
       "        -2.76763067e-02, -3.61422077e-02,  2.83705667e-02, -3.32536139e-02,\n",
       "         6.01911247e-02,  7.16084428e-03, -3.21193822e-02,  1.00305602e-01,\n",
       "         2.48313099e-02,  3.09539214e-02, -1.87178480e-03, -1.96664389e-02,\n",
       "         2.54117418e-02,  2.17062309e-02, -1.50588257e-02,  9.16999392e-03,\n",
       "         3.92969837e-03,  5.89959882e-02, -3.26567441e-02, -7.23024011e-02,\n",
       "         4.42396663e-02, -8.09963699e-03,  3.66033353e-02, -6.47037942e-03,\n",
       "        -5.15288785e-02,  5.74737638e-02,  3.27605344e-02, -3.47869694e-02,\n",
       "         1.15344557e-03, -5.10835163e-02, -2.02773884e-03, -1.37376916e-02,\n",
       "        -2.26375135e-03, -1.46535831e-02,  2.56580487e-02, -3.41950543e-02,\n",
       "         3.11359949e-02,  1.11530181e-02, -2.26282105e-02, -1.86231438e-04,\n",
       "        -3.42382342e-02, -3.47219151e-03,  7.12008262e-03,  2.85437573e-02,\n",
       "         3.43615301e-02,  4.17478941e-02,  1.46220541e-02, -1.00900829e-02,\n",
       "         2.19874607e-07,  1.26056155e-04, -3.26406248e-02,  2.73180194e-02,\n",
       "        -4.31562699e-02,  6.41151424e-03,  3.25414911e-03,  2.88389181e-03,\n",
       "         1.68630444e-02, -3.92219611e-03, -3.99216674e-02, -2.82338783e-02,\n",
       "         6.63915742e-03,  9.65183508e-03, -6.46985834e-04,  8.58047381e-02,\n",
       "        -5.46626076e-02,  9.56461281e-02, -3.35841700e-02, -3.86988558e-02,\n",
       "         1.08060483e-02,  8.10266435e-02,  4.47368110e-03,  5.54965213e-02,\n",
       "         2.06635799e-02, -1.76942777e-02, -7.89712518e-02, -9.13339853e-03,\n",
       "        -5.91490157e-02, -1.78458951e-02, -2.83568911e-02,  2.71815248e-02,\n",
       "         2.92243790e-02, -4.04383764e-02, -2.55332403e-02,  1.53778698e-02,\n",
       "         1.23813571e-02,  2.65146773e-02,  4.36860770e-02,  7.80087486e-02,\n",
       "         1.78200714e-02, -3.01126242e-02,  1.06306951e-02, -5.10762148e-02,\n",
       "        -1.62147675e-02,  2.78100371e-02,  5.96088469e-02, -1.07442820e-02,\n",
       "         5.74155748e-02, -4.65736799e-02,  4.81009670e-03,  3.75612639e-02,\n",
       "        -2.49797553e-02,  1.24980938e-02,  3.64437029e-02, -1.03774955e-02,\n",
       "         3.94603312e-02,  5.78910299e-02, -5.18749170e-02, -1.85877476e-02,\n",
       "        -3.52999638e-03, -2.97394432e-02,  4.59078103e-02,  1.81126816e-03,\n",
       "         8.85506719e-03,  5.07806055e-02,  4.10650112e-03,  5.75012341e-03,\n",
       "         1.64168473e-34, -4.68513276e-03, -6.60453225e-03,  2.19717715e-02,\n",
       "        -4.97994460e-02,  2.23752912e-02,  8.27603275e-04,  6.58981055e-02,\n",
       "        -3.05624511e-02,  8.99442751e-03, -3.16481553e-02, -3.01023573e-02],\n",
       "       dtype=float32)}"
      ]
     },
     "execution_count": 117,
     "metadata": {},
     "output_type": "execute_result"
    }
   ],
   "source": [
    "record_list[0]"
   ]
  },
  {
   "cell_type": "code",
   "execution_count": null,
   "metadata": {},
   "outputs": [],
   "source": [
    "for record in record_list:\n",
    "\n",
    "    try:\n",
    "        es.index(index='all_product' ,  document=record , id=record['ProductID'])\n",
    "\n",
    "    except Exception as e:\n",
    "        print(e)"
   ]
  },
  {
   "cell_type": "code",
   "execution_count": null,
   "metadata": {},
   "outputs": [
    {
     "data": {
      "text/plain": [
       "ObjectApiResponse({'count': 500, '_shards': {'total': 1, 'successful': 1, 'skipped': 0, 'failed': 0}})"
      ]
     },
     "execution_count": 120,
     "metadata": {},
     "output_type": "execute_result"
    }
   ],
   "source": [
    "es.count(index='all_product')"
   ]
  },
  {
   "cell_type": "code",
   "execution_count": null,
   "metadata": {},
   "outputs": [
    {
     "name": "stderr",
     "output_type": "stream",
     "text": [
      "C:\\Users\\91741\\AppData\\Local\\Temp\\ipykernel_10036\\1297393284.py:12: ElasticsearchWarning: The kNN search API has been replaced by the `knn` option in the search API.\n",
      "  res = es.knn_search(index='all_product', knn=query, source=['ProductName', 'Description'])\n"
     ]
    },
    {
     "data": {
      "text/plain": [
       "[{'_index': 'all_product',\n",
       "  '_id': '10006031',\n",
       "  '_score': 0.55765337,\n",
       "  '_source': {'ProductName': 'ID Men Brown Solid Leather Mid-Top Sneakers',\n",
       "   'Description': 'A pair of round-toe brown sneakers, has mid-top styling, lace-up detailLeather upperCushioned footbedTextured and patterned outsoleWarranty: 3 monthsWarranty provided by brand/manufacturer'}},\n",
       " {'_index': 'all_product',\n",
       "  '_id': '10001425',\n",
       "  '_score': 0.55642545,\n",
       "  '_source': {'ProductName': 'Shoe Couture Women White & Black Applique Detail Sneakers',\n",
       "   'Description': 'A pair of round-toe white & black sneakers, has regular styling, lace-up detailSynthetic upper with applique detailCushioned footbedTextured and patterned outsoleWarranty: 1 monthWarranty provided by brand/manufacturer'}}]"
      ]
     },
     "execution_count": 141,
     "metadata": {},
     "output_type": "execute_result"
    }
   ],
   "source": [
    "input_keyword = ' Shoes'\n",
    "vector_of_input_keyword = model.encode(input_keyword)  # Assuming model is a SentenceTransformer model\n",
    "\n",
    "query = {\n",
    "    'field' : 'description_vector',\n",
    "    'query_vector' : vector_of_input_keyword,\n",
    "    'k' : 2 ,\n",
    "    'num_candidates' : 500,\n",
    "    \n",
    "}\n",
    "\n",
    "res = es.knn_search(index='all_product', knn=query, source=['ProductName', 'Description'])\n",
    "res['hits']['hits']\n"
   ]
  }
 ],
 "metadata": {
  "kernelspec": {
   "display_name": ".venv",
   "language": "python",
   "name": "python3"
  },
  "language_info": {
   "codemirror_mode": {
    "name": "ipython",
    "version": 3
   },
   "file_extension": ".py",
   "mimetype": "text/x-python",
   "name": "python",
   "nbconvert_exporter": "python",
   "pygments_lexer": "ipython3",
   "version": "3.11.2"
  }
 },
 "nbformat": 4,
 "nbformat_minor": 2
}
